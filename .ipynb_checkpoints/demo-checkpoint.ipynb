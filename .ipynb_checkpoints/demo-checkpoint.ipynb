{
 "cells": [
  {
   "cell_type": "code",
   "execution_count": 1,
   "metadata": {},
   "outputs": [],
   "source": [
    "import tensorflow as tf\n",
    "from tensorflow import keras\n",
    "from tensorflow.keras.callbacks import TensorBoard, CSVLogger, ModelCheckpoint\n",
    "import numpy as np\n",
    "import os\n",
    "import time\n",
    "import pandas as pd"
   ]
  },
  {
   "cell_type": "code",
   "execution_count": 2,
   "metadata": {},
   "outputs": [],
   "source": [
    "fashion_mnist = keras.datasets.fashion_mnist\n",
    "(X_train_full, y_train_full), (X_test, y_test) = fashion_mnist.load_data()"
   ]
  },
  {
   "cell_type": "code",
   "execution_count": 3,
   "metadata": {},
   "outputs": [],
   "source": [
    "X_valid, X_train = X_train_full[:5000] / 255.0, X_train_full[5000:] / 255.0\n",
    "y_valid, y_train = y_train_full[:5000], y_train_full[5000:]"
   ]
  },
  {
   "cell_type": "code",
   "execution_count": 4,
   "metadata": {},
   "outputs": [],
   "source": [
    "class_names = ['T-shirt/top', 'Trouser', 'Pullover', 'Dress', 'Coat', 'Sandal','Shirt', 'Sneaker', 'Bag', 'Ankle boot']"
   ]
  },
  {
   "cell_type": "code",
   "execution_count": 5,
   "metadata": {},
   "outputs": [],
   "source": [
    "model = keras.models.Sequential()\n",
    "model.add(keras.layers.Flatten(input_shape = [28,28]))\n",
    "model.add(keras.layers.Dense(300, activation='relu'))\n",
    "\n",
    "model.add(keras.layers.Dense(10, activation='softmax'))"
   ]
  },
  {
   "cell_type": "code",
   "execution_count": 6,
   "metadata": {},
   "outputs": [
    {
     "name": "stdout",
     "output_type": "stream",
     "text": [
      "Model: \"sequential\"\n",
      "_________________________________________________________________\n",
      " Layer (type)                Output Shape              Param #   \n",
      "=================================================================\n",
      " flatten (Flatten)           (None, 784)               0         \n",
      "                                                                 \n",
      " dense (Dense)               (None, 300)               235500    \n",
      "                                                                 \n",
      " dense_1 (Dense)             (None, 10)                3010      \n",
      "                                                                 \n",
      "=================================================================\n",
      "Total params: 238,510\n",
      "Trainable params: 238,510\n",
      "Non-trainable params: 0\n",
      "_________________________________________________________________\n"
     ]
    }
   ],
   "source": [
    "model.summary()"
   ]
  },
  {
   "cell_type": "code",
   "execution_count": 6,
   "metadata": {},
   "outputs": [],
   "source": [
    "def create_board_dir():\n",
    "    root_dir = os.path.join(os.curdir,\"demo\", 'board_logs')\n",
    "    run_id = time.strftime('tuned_run_%d_%m_%Y-%H_%M_%S')\n",
    "    logs = os.path.join(root_dir, run_id)\n",
    "    return logs\n",
    "def create_checkpoint_dir():\n",
    "    root_dir = os.path.join(os.curdir,\"demo\", 'checkpoints')\n",
    "    run_id = time.strftime('tuned_run_%d_%m_%Y-%H_%M_%S')\n",
    "    checkpoint_logs = os.path.join(root_dir, run_id, \"ckp_{epoch:02d}-{val_loss:.4f}\")\n",
    "    return checkpoint_logs\n",
    "\n",
    "checkpoint_logs = create_checkpoint_dir()\n",
    "logs = create_board_dir()"
   ]
  },
  {
   "cell_type": "code",
   "execution_count": 7,
   "metadata": {},
   "outputs": [],
   "source": [
    "tensorboard_cb = TensorBoard(log_dir=logs,histogram_freq=1, write_images=True)\n",
    "csv_log = CSVLogger('demo/logs/hist.csv', append=True)\n",
    "checkpoint = ModelCheckpoint(checkpoint_logs, save_best_only=True, save_weights_only=True)"
   ]
  },
  {
   "cell_type": "code",
   "execution_count": 8,
   "metadata": {},
   "outputs": [],
   "source": [
    "cb = [tensorboard_cb, csv_log, checkpoint]"
   ]
  },
  {
   "cell_type": "code",
   "execution_count": 9,
   "metadata": {},
   "outputs": [],
   "source": [
    "model.compile(loss='sparse_categorical_crossentropy', optimizer='sgd', metrics=['accuracy'])"
   ]
  },
  {
   "cell_type": "code",
   "execution_count": null,
   "metadata": {},
   "outputs": [],
   "source": [
    "history = model.fit(X_train, y_train, epochs=5, validation_data=(X_valid, y_valid), callbacks=cb)"
   ]
  },
  {
   "cell_type": "code",
   "execution_count": 10,
   "metadata": {},
   "outputs": [
    {
     "data": {
      "text/plain": [
       "<tensorflow.python.training.tracking.util.CheckpointLoadStatus at 0x17f0d70d8a0>"
      ]
     },
     "execution_count": 10,
     "metadata": {},
     "output_type": "execute_result"
    }
   ],
   "source": [
    "model.load_weights('demo/checkpoints/frozen_run_04_08_2022-23_34_12/ckp_05-0.4117')"
   ]
  },
  {
   "cell_type": "code",
   "execution_count": 25,
   "metadata": {},
   "outputs": [],
   "source": [
    "logged_history = pd.read_csv('demo/logs/hist.csv')"
   ]
  },
  {
   "cell_type": "code",
   "execution_count": 26,
   "metadata": {},
   "outputs": [
    {
     "data": {
      "text/html": [
       "<div>\n",
       "<style scoped>\n",
       "    .dataframe tbody tr th:only-of-type {\n",
       "        vertical-align: middle;\n",
       "    }\n",
       "\n",
       "    .dataframe tbody tr th {\n",
       "        vertical-align: top;\n",
       "    }\n",
       "\n",
       "    .dataframe thead th {\n",
       "        text-align: right;\n",
       "    }\n",
       "</style>\n",
       "<table border=\"1\" class=\"dataframe\">\n",
       "  <thead>\n",
       "    <tr style=\"text-align: right;\">\n",
       "      <th></th>\n",
       "      <th>epoch</th>\n",
       "      <th>accuracy</th>\n",
       "      <th>loss</th>\n",
       "      <th>val_accuracy</th>\n",
       "      <th>val_loss</th>\n",
       "    </tr>\n",
       "  </thead>\n",
       "  <tbody>\n",
       "    <tr>\n",
       "      <th>0</th>\n",
       "      <td>0</td>\n",
       "      <td>0.762855</td>\n",
       "      <td>0.738137</td>\n",
       "      <td>0.8172</td>\n",
       "      <td>0.551477</td>\n",
       "    </tr>\n",
       "    <tr>\n",
       "      <th>1</th>\n",
       "      <td>1</td>\n",
       "      <td>0.825073</td>\n",
       "      <td>0.514374</td>\n",
       "      <td>0.8388</td>\n",
       "      <td>0.478271</td>\n",
       "    </tr>\n",
       "    <tr>\n",
       "      <th>2</th>\n",
       "      <td>2</td>\n",
       "      <td>0.838673</td>\n",
       "      <td>0.469246</td>\n",
       "      <td>0.8476</td>\n",
       "      <td>0.448541</td>\n",
       "    </tr>\n",
       "    <tr>\n",
       "      <th>3</th>\n",
       "      <td>3</td>\n",
       "      <td>0.846891</td>\n",
       "      <td>0.444050</td>\n",
       "      <td>0.8482</td>\n",
       "      <td>0.446553</td>\n",
       "    </tr>\n",
       "    <tr>\n",
       "      <th>4</th>\n",
       "      <td>4</td>\n",
       "      <td>0.852073</td>\n",
       "      <td>0.424703</td>\n",
       "      <td>0.8628</td>\n",
       "      <td>0.411656</td>\n",
       "    </tr>\n",
       "    <tr>\n",
       "      <th>5</th>\n",
       "      <td>4</td>\n",
       "      <td>0.857200</td>\n",
       "      <td>0.409721</td>\n",
       "      <td>0.8638</td>\n",
       "      <td>0.399229</td>\n",
       "    </tr>\n",
       "    <tr>\n",
       "      <th>6</th>\n",
       "      <td>5</td>\n",
       "      <td>0.862455</td>\n",
       "      <td>0.396834</td>\n",
       "      <td>0.8638</td>\n",
       "      <td>0.398664</td>\n",
       "    </tr>\n",
       "    <tr>\n",
       "      <th>7</th>\n",
       "      <td>6</td>\n",
       "      <td>0.864873</td>\n",
       "      <td>0.386961</td>\n",
       "      <td>0.8702</td>\n",
       "      <td>0.383507</td>\n",
       "    </tr>\n",
       "    <tr>\n",
       "      <th>8</th>\n",
       "      <td>7</td>\n",
       "      <td>0.867636</td>\n",
       "      <td>0.377716</td>\n",
       "      <td>0.8674</td>\n",
       "      <td>0.385073</td>\n",
       "    </tr>\n",
       "    <tr>\n",
       "      <th>9</th>\n",
       "      <td>8</td>\n",
       "      <td>0.871891</td>\n",
       "      <td>0.369622</td>\n",
       "      <td>0.8664</td>\n",
       "      <td>0.386480</td>\n",
       "    </tr>\n",
       "    <tr>\n",
       "      <th>10</th>\n",
       "      <td>9</td>\n",
       "      <td>0.873764</td>\n",
       "      <td>0.361679</td>\n",
       "      <td>0.8730</td>\n",
       "      <td>0.368647</td>\n",
       "    </tr>\n",
       "    <tr>\n",
       "      <th>11</th>\n",
       "      <td>4</td>\n",
       "      <td>0.858127</td>\n",
       "      <td>0.409844</td>\n",
       "      <td>0.8612</td>\n",
       "      <td>0.405555</td>\n",
       "    </tr>\n",
       "    <tr>\n",
       "      <th>12</th>\n",
       "      <td>5</td>\n",
       "      <td>0.862018</td>\n",
       "      <td>0.397311</td>\n",
       "      <td>0.8684</td>\n",
       "      <td>0.389121</td>\n",
       "    </tr>\n",
       "    <tr>\n",
       "      <th>13</th>\n",
       "      <td>6</td>\n",
       "      <td>0.865582</td>\n",
       "      <td>0.387429</td>\n",
       "      <td>0.8686</td>\n",
       "      <td>0.382053</td>\n",
       "    </tr>\n",
       "    <tr>\n",
       "      <th>14</th>\n",
       "      <td>7</td>\n",
       "      <td>0.868145</td>\n",
       "      <td>0.378320</td>\n",
       "      <td>0.8732</td>\n",
       "      <td>0.377734</td>\n",
       "    </tr>\n",
       "    <tr>\n",
       "      <th>15</th>\n",
       "      <td>8</td>\n",
       "      <td>0.871473</td>\n",
       "      <td>0.369705</td>\n",
       "      <td>0.8746</td>\n",
       "      <td>0.368260</td>\n",
       "    </tr>\n",
       "    <tr>\n",
       "      <th>16</th>\n",
       "      <td>9</td>\n",
       "      <td>0.873255</td>\n",
       "      <td>0.361816</td>\n",
       "      <td>0.8700</td>\n",
       "      <td>0.374202</td>\n",
       "    </tr>\n",
       "  </tbody>\n",
       "</table>\n",
       "</div>"
      ],
      "text/plain": [
       "    epoch  accuracy      loss  val_accuracy  val_loss\n",
       "0       0  0.762855  0.738137        0.8172  0.551477\n",
       "1       1  0.825073  0.514374        0.8388  0.478271\n",
       "2       2  0.838673  0.469246        0.8476  0.448541\n",
       "3       3  0.846891  0.444050        0.8482  0.446553\n",
       "4       4  0.852073  0.424703        0.8628  0.411656\n",
       "5       4  0.857200  0.409721        0.8638  0.399229\n",
       "6       5  0.862455  0.396834        0.8638  0.398664\n",
       "7       6  0.864873  0.386961        0.8702  0.383507\n",
       "8       7  0.867636  0.377716        0.8674  0.385073\n",
       "9       8  0.871891  0.369622        0.8664  0.386480\n",
       "10      9  0.873764  0.361679        0.8730  0.368647\n",
       "11      4  0.858127  0.409844        0.8612  0.405555\n",
       "12      5  0.862018  0.397311        0.8684  0.389121\n",
       "13      6  0.865582  0.387429        0.8686  0.382053\n",
       "14      7  0.868145  0.378320        0.8732  0.377734\n",
       "15      8  0.871473  0.369705        0.8746  0.368260\n",
       "16      9  0.873255  0.361816        0.8700  0.374202"
      ]
     },
     "execution_count": 26,
     "metadata": {},
     "output_type": "execute_result"
    }
   ],
   "source": [
    "logged_history"
   ]
  },
  {
   "cell_type": "code",
   "execution_count": 22,
   "metadata": {},
   "outputs": [
    {
     "name": "stdout",
     "output_type": "stream",
     "text": [
      "5\n",
      "4\n"
     ]
    }
   ],
   "source": [
    "print(len(logged_history.epoch[:5]))\n",
    "print(logged_history.iloc[5,0])"
   ]
  },
  {
   "cell_type": "code",
   "execution_count": 23,
   "metadata": {},
   "outputs": [
    {
     "name": "stdout",
     "output_type": "stream",
     "text": [
      "Epoch 5/10\n",
      "1719/1719 [==============================] - 2s 1ms/step - loss: 0.4098 - accuracy: 0.8581 - val_loss: 0.4056 - val_accuracy: 0.8612\n",
      "Epoch 6/10\n",
      "1719/1719 [==============================] - 2s 1ms/step - loss: 0.3973 - accuracy: 0.8620 - val_loss: 0.3891 - val_accuracy: 0.8684\n",
      "Epoch 7/10\n",
      "1719/1719 [==============================] - 2s 1ms/step - loss: 0.3874 - accuracy: 0.8656 - val_loss: 0.3821 - val_accuracy: 0.8686\n",
      "Epoch 8/10\n",
      "1719/1719 [==============================] - 2s 1ms/step - loss: 0.3783 - accuracy: 0.8681 - val_loss: 0.3777 - val_accuracy: 0.8732\n",
      "Epoch 9/10\n",
      "1719/1719 [==============================] - 2s 1ms/step - loss: 0.3697 - accuracy: 0.8715 - val_loss: 0.3683 - val_accuracy: 0.8746\n",
      "Epoch 10/10\n",
      "1719/1719 [==============================] - 2s 1ms/step - loss: 0.3618 - accuracy: 0.8733 - val_loss: 0.3742 - val_accuracy: 0.8700\n"
     ]
    }
   ],
   "source": [
    "tuned_epochs = 5\n",
    "total_epochs = len(logged_history.epoch[:5]) + tuned_epochs\n",
    "history_tuned =  model.fit(X_train, y_train, initial_epoch=logged_history.iloc[4,0], epochs=total_epochs, validation_data=(X_valid, y_valid), callbacks=cb)"
   ]
  },
  {
   "cell_type": "code",
   "execution_count": 24,
   "metadata": {},
   "outputs": [
    {
     "data": {
      "text/html": [
       "<div>\n",
       "<style scoped>\n",
       "    .dataframe tbody tr th:only-of-type {\n",
       "        vertical-align: middle;\n",
       "    }\n",
       "\n",
       "    .dataframe tbody tr th {\n",
       "        vertical-align: top;\n",
       "    }\n",
       "\n",
       "    .dataframe thead th {\n",
       "        text-align: right;\n",
       "    }\n",
       "</style>\n",
       "<table border=\"1\" class=\"dataframe\">\n",
       "  <thead>\n",
       "    <tr style=\"text-align: right;\">\n",
       "      <th></th>\n",
       "      <th>epoch</th>\n",
       "      <th>accuracy</th>\n",
       "      <th>loss</th>\n",
       "      <th>val_accuracy</th>\n",
       "      <th>val_loss</th>\n",
       "    </tr>\n",
       "  </thead>\n",
       "  <tbody>\n",
       "    <tr>\n",
       "      <th>0</th>\n",
       "      <td>0</td>\n",
       "      <td>0.762855</td>\n",
       "      <td>0.738137</td>\n",
       "      <td>0.8172</td>\n",
       "      <td>0.551477</td>\n",
       "    </tr>\n",
       "    <tr>\n",
       "      <th>1</th>\n",
       "      <td>1</td>\n",
       "      <td>0.825073</td>\n",
       "      <td>0.514374</td>\n",
       "      <td>0.8388</td>\n",
       "      <td>0.478271</td>\n",
       "    </tr>\n",
       "    <tr>\n",
       "      <th>2</th>\n",
       "      <td>2</td>\n",
       "      <td>0.838673</td>\n",
       "      <td>0.469246</td>\n",
       "      <td>0.8476</td>\n",
       "      <td>0.448541</td>\n",
       "    </tr>\n",
       "    <tr>\n",
       "      <th>3</th>\n",
       "      <td>3</td>\n",
       "      <td>0.846891</td>\n",
       "      <td>0.444050</td>\n",
       "      <td>0.8482</td>\n",
       "      <td>0.446553</td>\n",
       "    </tr>\n",
       "    <tr>\n",
       "      <th>4</th>\n",
       "      <td>4</td>\n",
       "      <td>0.852073</td>\n",
       "      <td>0.424703</td>\n",
       "      <td>0.8628</td>\n",
       "      <td>0.411656</td>\n",
       "    </tr>\n",
       "    <tr>\n",
       "      <th>5</th>\n",
       "      <td>4</td>\n",
       "      <td>0.857200</td>\n",
       "      <td>0.409721</td>\n",
       "      <td>0.8638</td>\n",
       "      <td>0.399229</td>\n",
       "    </tr>\n",
       "    <tr>\n",
       "      <th>6</th>\n",
       "      <td>5</td>\n",
       "      <td>0.862455</td>\n",
       "      <td>0.396834</td>\n",
       "      <td>0.8638</td>\n",
       "      <td>0.398664</td>\n",
       "    </tr>\n",
       "    <tr>\n",
       "      <th>7</th>\n",
       "      <td>6</td>\n",
       "      <td>0.864873</td>\n",
       "      <td>0.386961</td>\n",
       "      <td>0.8702</td>\n",
       "      <td>0.383507</td>\n",
       "    </tr>\n",
       "    <tr>\n",
       "      <th>8</th>\n",
       "      <td>7</td>\n",
       "      <td>0.867636</td>\n",
       "      <td>0.377716</td>\n",
       "      <td>0.8674</td>\n",
       "      <td>0.385073</td>\n",
       "    </tr>\n",
       "    <tr>\n",
       "      <th>9</th>\n",
       "      <td>8</td>\n",
       "      <td>0.871891</td>\n",
       "      <td>0.369622</td>\n",
       "      <td>0.8664</td>\n",
       "      <td>0.386480</td>\n",
       "    </tr>\n",
       "    <tr>\n",
       "      <th>10</th>\n",
       "      <td>9</td>\n",
       "      <td>0.873764</td>\n",
       "      <td>0.361679</td>\n",
       "      <td>0.8730</td>\n",
       "      <td>0.368647</td>\n",
       "    </tr>\n",
       "  </tbody>\n",
       "</table>\n",
       "</div>"
      ],
      "text/plain": [
       "    epoch  accuracy      loss  val_accuracy  val_loss\n",
       "0       0  0.762855  0.738137        0.8172  0.551477\n",
       "1       1  0.825073  0.514374        0.8388  0.478271\n",
       "2       2  0.838673  0.469246        0.8476  0.448541\n",
       "3       3  0.846891  0.444050        0.8482  0.446553\n",
       "4       4  0.852073  0.424703        0.8628  0.411656\n",
       "5       4  0.857200  0.409721        0.8638  0.399229\n",
       "6       5  0.862455  0.396834        0.8638  0.398664\n",
       "7       6  0.864873  0.386961        0.8702  0.383507\n",
       "8       7  0.867636  0.377716        0.8674  0.385073\n",
       "9       8  0.871891  0.369622        0.8664  0.386480\n",
       "10      9  0.873764  0.361679        0.8730  0.368647"
      ]
     },
     "execution_count": 24,
     "metadata": {},
     "output_type": "execute_result"
    }
   ],
   "source": [
    "#logged_history = pd.read_csv('demo/logs/hist.csv')\n",
    "logged_history"
   ]
  },
  {
   "cell_type": "code",
   "execution_count": null,
   "metadata": {},
   "outputs": [],
   "source": [
    "# tensorboard --logdir=./demo/board_logs --host localhost --port 8088 "
   ]
  }
 ],
 "metadata": {
  "kernelspec": {
   "display_name": "Python 3 (ipykernel)",
   "language": "python",
   "name": "python3"
  },
  "language_info": {
   "codemirror_mode": {
    "name": "ipython",
    "version": 3
   },
   "file_extension": ".py",
   "mimetype": "text/x-python",
   "name": "python",
   "nbconvert_exporter": "python",
   "pygments_lexer": "ipython3",
   "version": "3.10.2"
  },
  "vscode": {
   "interpreter": {
    "hash": "5ec7005f4a9b61889b909841db5d74fb8404e085e9bff40e5d844aa85c5d903b"
   }
  }
 },
 "nbformat": 4,
 "nbformat_minor": 2
}
